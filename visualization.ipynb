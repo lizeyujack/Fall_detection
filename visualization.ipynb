{
 "cells": [
  {
   "cell_type": "code",
   "execution_count": 1,
   "id": "64e78868",
   "metadata": {},
   "outputs": [],
   "source": [
    "import pandas as pd"
   ]
  },
  {
   "cell_type": "code",
   "execution_count": 4,
   "id": "dd1d05b5",
   "metadata": {},
   "outputs": [],
   "source": [
    "df = pd.read_csv(\"./jack.csv\")"
   ]
  },
  {
   "cell_type": "code",
   "execution_count": 5,
   "id": "86eff2fe",
   "metadata": {},
   "outputs": [
    {
     "data": {
      "text/plain": [
       "0      1.00320\n",
       "1      1.02850\n",
       "2      0.98591\n",
       "3      0.98154\n",
       "4      0.97366\n",
       "        ...   \n",
       "154    1.05630\n",
       "155    1.06140\n",
       "156    1.06940\n",
       "157    1.09440\n",
       "158    1.05910\n",
       "Name: 1.0249, Length: 159, dtype: float64"
      ]
     },
     "execution_count": 5,
     "metadata": {},
     "output_type": "execute_result"
    }
   ],
   "source": [
    "df.iloc[:,-1]"
   ]
  },
  {
   "cell_type": "code",
   "execution_count": 6,
   "id": "079a3e19",
   "metadata": {},
   "outputs": [
    {
     "data": {
      "text/plain": [
       "0        33\n",
       "1        66\n",
       "2       100\n",
       "3       133\n",
       "4       166\n",
       "       ... \n",
       "154    5172\n",
       "155    5205\n",
       "156    5238\n",
       "157    5272\n",
       "158    5305\n",
       "Name: 0, Length: 159, dtype: int64"
      ]
     },
     "execution_count": 6,
     "metadata": {},
     "output_type": "execute_result"
    }
   ],
   "source": [
    "df.iloc[:,-2]"
   ]
  },
  {
   "cell_type": "code",
   "execution_count": 10,
   "id": "c5dba3fc",
   "metadata": {},
   "outputs": [
    {
     "data": {
      "image/png": "[encoded data removed]",
      "text/plain": [
       "<Figure size 432x288 with 1 Axes>"
      ]
     },
     "metadata": {
      "needs_background": "light"
     },
     "output_type": "display_data"
    }
   ],
   "source": [
    "import matplotlib.pyplot as plt\n",
    "from pylab import *\n",
    "mpl.rcParams['font.sans-serif'] = ['SimHei']\n",
    "x = df.iloc[:,-2]\n",
    "y = df.iloc[:,-1]\n",
    "\n",
    "plt.plot(x, y, mec='r', mfc='w',label=u'曲线图')\n",
    "\n",
    "plt.legend()  # 让图例生效\n",
    "plt.xticks( rotation=45)\n",
    "plt.margins(0)\n",
    "plt.subplots_adjust(bottom=0.15)\n",
    "plt.xlabel(u\"time(s)邻居\") #X轴标签\n",
    "plt.ylabel(\"RMSE\") #Y轴标签\n",
    "plt.title(\"A simple plot\") #标题\n",
    "plt.show()"
   ]
  },
  {
   "cell_type": "code",
   "execution_count": null,
   "id": "12783dbe",
   "metadata": {},
   "outputs": [],
   "source": []
  }
 ],
 "metadata": {
  "kernelspec": {
   "display_name": "Python 3",
   "language": "python",
   "name": "python3"
  },
  "language_info": {
   "codemirror_mode": {
    "name": "ipython",
    "version": 3
   },
   "file_extension": ".py",
   "mimetype": "text/x-python",
   "name": "python",
   "nbconvert_exporter": "python",
   "pygments_lexer": "ipython3",
   "version": "3.8.8"
  }
 },
 "nbformat": 4,
 "nbformat_minor": 5
}
