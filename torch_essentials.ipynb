{
 "cells": [
  {
   "cell_type": "code",
   "execution_count": 6,
   "id": "73559e41",
   "metadata": {},
   "outputs": [
    {
     "data": {
      "text/plain": [
       "False"
      ]
     },
     "execution_count": 6,
     "metadata": {},
     "output_type": "execute_result"
    }
   ],
   "source": [
    "import torch\n",
    "torch.__version__\n",
    "torch.cuda.is_available()"
   ]
  },
  {
   "cell_type": "code",
   "execution_count": 19,
   "id": "76f2fe20",
   "metadata": {},
   "outputs": [
    {
     "name": "stdout",
     "output_type": "stream",
     "text": [
      "tensor([[ 8, 10, 12],\n",
      "        [14, 16, 18]])\n",
      "torch.Size([2, 3])\n"
     ]
    }
   ],
   "source": [
    "import torch\n",
    "x = torch.tensor([[1,2,3],[4,5,6]])\n",
    "y = torch.tensor([[7,8,9],[10,11,12]])\n",
    "z = x + y\n",
    "print(z)\n",
    "print(z.size())"
   ]
  },
  {
   "cell_type": "code",
   "execution_count": 84,
   "id": "219e8a74",
   "metadata": {},
   "outputs": [
    {
     "name": "stdout",
     "output_type": "stream",
     "text": [
      "tensor([[ 8, 10, 12],\n",
      "        [14, 16, 18]])\n",
      "torch.Size([2, 3])\n",
      "cpu\n"
     ]
    }
   ],
   "source": [
    "device = \"cuda\" if torch.cuda.is_available() else \"cpu\"\n",
    "x = torch.tensor([[1,2,3],[4,5,6]],\n",
    "                 device=device)\n",
    "y = torch.tensor([[7,8,9],[10,11,12]],\n",
    "                 device=device)\n",
    "z = x + y\n",
    "print(z)\n",
    "print(z.size())\n",
    "print(z.device)"
   ]
  },
  {
   "cell_type": "code",
   "execution_count": 24,
   "id": "ee1bb673",
   "metadata": {},
   "outputs": [],
   "source": [
    "device = \"cuda\" if torch.cuda.is_available() else \"cpu\"\n",
    "x = x.to(device)\n",
    "y = y.to(device)\n",
    "z = x + y\n",
    "z = z.to(\"cpu\")"
   ]
  },
  {
   "cell_type": "code",
   "execution_count": 28,
   "id": "67db8944",
   "metadata": {},
   "outputs": [
    {
     "data": {
      "text/plain": [
       "tensor([[-0.0202,  1.1398, -0.4037,  ..., -1.2413,  1.7040,  0.2253],\n",
       "        [-1.0555, -1.1624, -0.3124,  ...,  0.6938,  1.2034,  1.4404],\n",
       "        [ 0.0476, -0.1784, -1.2514,  ...,  1.3199, -0.9069,  0.6805],\n",
       "        ...,\n",
       "        [ 0.0225, -0.2211,  0.6425,  ..., -0.4774, -1.1970, -1.0346],\n",
       "        [-0.1131, -0.7409, -0.4923,  ..., -0.0262,  0.2809,  0.0612],\n",
       "        [ 0.4439, -1.2744,  0.4951,  ..., -0.4245, -0.9967, -0.9065]])"
      ]
     },
     "execution_count": 28,
     "metadata": {},
     "output_type": "execute_result"
    }
   ],
   "source": [
    "torch.randn(100,200)"
   ]
  },
  {
   "cell_type": "code",
   "execution_count": 30,
   "id": "0b3d2329",
   "metadata": {},
   "outputs": [
    {
     "data": {
      "text/plain": [
       "100"
      ]
     },
     "execution_count": 30,
     "metadata": {},
     "output_type": "execute_result"
    }
   ],
   "source": [
    "torch.randint(5,10,(100,200))"
   ]
  },
  {
   "cell_type": "code",
   "execution_count": 37,
   "id": "b4c51b5f",
   "metadata": {},
   "outputs": [
    {
     "data": {
      "text/plain": [
       "torch.Size([100, 200])"
      ]
     },
     "execution_count": 37,
     "metadata": {},
     "output_type": "execute_result"
    }
   ],
   "source": [
    "torch.zeros(100,200)"
   ]
  },
  {
   "cell_type": "code",
   "execution_count": 42,
   "id": "7be10485",
   "metadata": {},
   "outputs": [
    {
     "data": {
      "text/plain": [
       "tensor([  1.0000, 125.7500, 250.5000, 375.2500, 500.0000])"
      ]
     },
     "execution_count": 42,
     "metadata": {},
     "output_type": "execute_result"
    }
   ],
   "source": [
    "torch.linspace(1, 500, steps=5)"
   ]
  },
  {
   "cell_type": "code",
   "execution_count": 46,
   "id": "34402215",
   "metadata": {},
   "outputs": [
    {
     "data": {
      "text/plain": [
       "tensor([   2.,    4.,    8.,   16.,   32.,   64.,  128.,  256.,  512., 1024.])"
      ]
     },
     "execution_count": 46,
     "metadata": {},
     "output_type": "execute_result"
    }
   ],
   "source": [
    "torch.logspace(1, 10, steps=10,base = 2)#2^1 -> 2^10"
   ]
  },
  {
   "cell_type": "code",
   "execution_count": 49,
   "id": "098bc447",
   "metadata": {},
   "outputs": [
    {
     "data": {
      "text/plain": [
       "2"
      ]
     },
     "execution_count": 49,
     "metadata": {},
     "output_type": "execute_result"
    }
   ],
   "source": [
    "x.ndim"
   ]
  },
  {
   "cell_type": "code",
   "execution_count": 50,
   "id": "31e56339",
   "metadata": {},
   "outputs": [],
   "source": [
    "x.grad"
   ]
  },
  {
   "cell_type": "code",
   "execution_count": 51,
   "id": "68fae276",
   "metadata": {},
   "outputs": [
    {
     "data": {
      "text/plain": [
       "torch.strided"
      ]
     },
     "execution_count": 51,
     "metadata": {},
     "output_type": "execute_result"
    }
   ],
   "source": [
    "x.layout"
   ]
  },
  {
   "cell_type": "code",
   "execution_count": 88,
   "id": "3b5bc6d8",
   "metadata": {},
   "outputs": [
    {
     "name": "stdout",
     "output_type": "stream",
     "text": [
      "torch.float32\n"
     ]
    }
   ],
   "source": [
    "w = torch.tensor([1,2,3], dtype=torch.float32)\n",
    "# Use the casting method to cast to a new data type\n",
    "w.int()       # w remains a float32 after the cast\n",
    "w = w.int()   # w changes to an int32 after the cast\n",
    "# Use the to() method to cast to a new type\n",
    "w = w.to(torch.float64) \n",
    "w = w.to(dtype=torch.float64) # Python automatically converts data types during\n",
    "# operations\n",
    "x = torch.tensor([1,2,3], dtype=torch.int32)\n",
    "y = torch.tensor([1,2,3], dtype=torch.float32)\n",
    "z = x + y\n",
    "print(z.dtype)"
   ]
  },
  {
   "cell_type": "code",
   "execution_count": 65,
   "id": "05890e6f",
   "metadata": {},
   "outputs": [
    {
     "data": {
      "text/plain": [
       "tensor([[ 1.4215e+19,  4.4725e+21,  0.0000e+00,  0.0000e+00,  8.2905e+02,\n",
       "          7.7128e+31,  2.9387e+29,  1.7965e+19,  2.0131e+02,  1.4215e+19],\n",
       "        [ 4.4725e+21,  8.6218e+09,  8.9495e+08,  8.2905e+02,  7.7128e+31,\n",
       "          1.7751e+28,  1.7965e+19,  2.0131e+02,  1.4215e+19,  1.8759e+28],\n",
       "        [ 1.0325e-38,  1.5357e+13,  3.2764e+09,  1.7689e+31,  4.3985e+21,\n",
       "          0.0000e+00,  8.9494e+08,  8.2905e+02,  7.7128e+31,  4.2964e+24],\n",
       "        [-1.5729e+04, -4.4379e-42,  8.5661e-33,  4.5909e-41,  1.0991e+21,\n",
       "          6.8002e+22,  9.8095e+11,  7.2231e+28,  0.0000e+00,  0.0000e+00],\n",
       "        [ 2.1019e-44,  0.0000e+00,  8.6822e-33,  4.5909e-41,  0.0000e+00,\n",
       "          0.0000e+00,  0.0000e+00,  0.0000e+00,  0.0000e+00,  0.0000e+00],\n",
       "        [ 0.0000e+00,  0.0000e+00,  0.0000e+00,  0.0000e+00,  0.0000e+00,\n",
       "          0.0000e+00,  0.0000e+00,  0.0000e+00,  0.0000e+00,  0.0000e+00],\n",
       "        [ 0.0000e+00,  0.0000e+00,  0.0000e+00,  0.0000e+00,  0.0000e+00,\n",
       "          0.0000e+00,  2.3796e+21,  0.0000e+00,  2.8026e-45,  7.2128e+22],\n",
       "        [-5.0752e-12,  4.5908e-41,  0.0000e+00,  0.0000e+00,  6.7620e+34,\n",
       "          2.8825e+32,  1.8049e+28,  9.5923e-39,  1.5582e+01,  1.7682e+19],\n",
       "        [ 1.8014e+25,  1.5323e+31,  7.7140e+31,  6.7620e+34,  2.8825e+32,\n",
       "          1.8004e+25,         nan,  0.0000e+00,  1.6621e+22,  2.9339e+32],\n",
       "        [ 8.6822e-33,  4.5909e-41,  1.6677e+19,  4.2318e+21,  1.8960e+31,\n",
       "          7.2251e+28,  9.9532e-39,  1.5582e+01,  9.3702e+08,  7.4410e+34]])"
      ]
     },
     "execution_count": 65,
     "metadata": {},
     "output_type": "execute_result"
    }
   ],
   "source": [
    "torch.empty(10,10)"
   ]
  },
  {
   "cell_type": "code",
   "execution_count": 89,
   "id": "7717188c",
   "metadata": {},
   "outputs": [
    {
     "name": "stdout",
     "output_type": "stream",
     "text": [
      "tensor([[1, 2],\n",
      "        [3, 4],\n",
      "        [5, 6],\n",
      "        [7, 8]])\n",
      "tensor(4)\n",
      "4\n"
     ]
    }
   ],
   "source": [
    "x = torch.tensor([[1,2],[3,4],[5,6],[7,8]])\n",
    "print(x)\n",
    "print(x[1,1])\n",
    "print(x[1,1].item())"
   ]
  },
  {
   "cell_type": "code",
   "execution_count": 90,
   "id": "7139d73e",
   "metadata": {},
   "outputs": [
    {
     "name": "stdout",
     "output_type": "stream",
     "text": [
      "tensor([2, 4])\n"
     ]
    }
   ],
   "source": [
    "print(x[:2,1])#just like dataframe"
   ]
  },
  {
   "cell_type": "code",
   "execution_count": 91,
   "id": "59f038fd",
   "metadata": {},
   "outputs": [
    {
     "name": "stdout",
     "output_type": "stream",
     "text": [
      "tensor([1, 2, 3, 4, 5, 6])\n"
     ]
    }
   ],
   "source": [
    "print(x[x<7])"
   ]
  },
  {
   "cell_type": "code",
   "execution_count": 92,
   "id": "5ad4b665",
   "metadata": {},
   "outputs": [
    {
     "name": "stdout",
     "output_type": "stream",
     "text": [
      "tensor([[1, 3, 5, 7],\n",
      "        [2, 4, 6, 8]])\n",
      "tensor([[1, 3, 5, 7],\n",
      "        [2, 4, 6, 8]])\n"
     ]
    }
   ],
   "source": [
    "print(x.t())#转置1\n",
    "\n",
    "print(x.T)#转置2"
   ]
  },
  {
   "cell_type": "code",
   "execution_count": 93,
   "id": "fff4cd7e",
   "metadata": {},
   "outputs": [
    {
     "name": "stdout",
     "output_type": "stream",
     "text": [
      "tensor([[1],\n",
      "        [2],\n",
      "        [3],\n",
      "        [4],\n",
      "        [5],\n",
      "        [6],\n",
      "        [7],\n",
      "        [8]])\n"
     ]
    }
   ],
   "source": [
    "print(x.view((8,-1)))#to see how this x has been transformed"
   ]
  },
  {
   "cell_type": "code",
   "execution_count": 94,
   "id": "49dabff2",
   "metadata": {},
   "outputs": [
    {
     "name": "stdout",
     "output_type": "stream",
     "text": [
      "tensor([[[1, 2],\n",
      "         [3, 4],\n",
      "         [5, 6],\n",
      "         [7, 8]],\n",
      "\n",
      "        [[1, 2],\n",
      "         [3, 4],\n",
      "         [5, 6],\n",
      "         [7, 8]]])\n"
     ]
    }
   ],
   "source": [
    "y = torch.stack((x, x))# Combining tensors\n",
    "print(y)"
   ]
  },
  {
   "cell_type": "code",
   "execution_count": 95,
   "id": "879a3461",
   "metadata": {},
   "outputs": [
    {
     "name": "stdout",
     "output_type": "stream",
     "text": [
      "tensor([1, 3, 5, 7]) tensor([2, 4, 6, 8])\n"
     ]
    }
   ],
   "source": [
    "a,b = x.unbind(dim=1)# Splitting tensors\n",
    "print(a,b)"
   ]
  },
  {
   "cell_type": "code",
   "execution_count": 128,
   "id": "81bd9816",
   "metadata": {},
   "outputs": [],
   "source": [
    "x1 = torch.tensor([[8,7,6],[2,3,4],[5,6,7]],dtype = torch.float32)\n",
    "x2 = torch.tensor([[111,2,3],[23,2,11],[88,7,34]],dtype = torch.float32)"
   ]
  },
  {
   "cell_type": "code",
   "execution_count": 101,
   "id": "94253cc1",
   "metadata": {},
   "outputs": [
    {
     "data": {
      "text/plain": [
       "tensor([[8, 7, 6],\n",
       "        [2, 3, 4],\n",
       "        [5, 6, 7]])"
      ]
     },
     "execution_count": 101,
     "metadata": {},
     "output_type": "execute_result"
    }
   ],
   "source": [
    "x1"
   ]
  },
  {
   "cell_type": "code",
   "execution_count": 105,
   "id": "1369c488",
   "metadata": {},
   "outputs": [
    {
     "data": {
      "text/plain": [
       "tensor(0)"
      ]
     },
     "execution_count": 105,
     "metadata": {},
     "output_type": "execute_result"
    }
   ],
   "source": [
    "torch.argmax(x1)#最大数字的位置"
   ]
  },
  {
   "cell_type": "code",
   "execution_count": 123,
   "id": "392a260f",
   "metadata": {},
   "outputs": [
    {
     "data": {
      "text/plain": [
       "tensor(3)"
      ]
     },
     "execution_count": 123,
     "metadata": {},
     "output_type": "execute_result"
    }
   ],
   "source": [
    "torch.argmin(x1)#最小数字位置"
   ]
  },
  {
   "cell_type": "code",
   "execution_count": 122,
   "id": "d3d27a94",
   "metadata": {},
   "outputs": [
    {
     "data": {
      "text/plain": [
       "tensor([7., 3., 6.])"
      ]
     },
     "execution_count": 122,
     "metadata": {},
     "output_type": "execute_result"
    }
   ],
   "source": [
    "torch.mean(x1,1)#需要预先转换为float"
   ]
  },
  {
   "cell_type": "markdown",
   "id": "d2011214",
   "metadata": {},
   "source": [
    "- 比较关系\n",
    "- 返回值为bool类型=>```True``` or ```False```"
   ]
  },
  {
   "cell_type": "code",
   "execution_count": 129,
   "id": "b0f9b593",
   "metadata": {},
   "outputs": [
    {
     "data": {
      "text/plain": [
       "tensor([[False, False, False],\n",
       "        [False, False, False],\n",
       "        [False, False, False]])"
      ]
     },
     "execution_count": 129,
     "metadata": {},
     "output_type": "execute_result"
    }
   ],
   "source": [
    "torch.eq(x1,x2)#compare X1 and X2   => x1 == x2"
   ]
  },
  {
   "cell_type": "code",
   "execution_count": 130,
   "id": "ce6704a9",
   "metadata": {},
   "outputs": [
    {
     "data": {
      "text/plain": [
       "tensor([[False,  True,  True],\n",
       "        [False,  True, False],\n",
       "        [False, False, False]])"
      ]
     },
     "execution_count": 130,
     "metadata": {},
     "output_type": "execute_result"
    }
   ],
   "source": [
    "torch.ge(x1,x2)#if x1>x2 ????     => x1 > x2"
   ]
  },
  {
   "cell_type": "code",
   "execution_count": 131,
   "id": "6b2d9dc7",
   "metadata": {},
   "outputs": [
    {
     "data": {
      "text/plain": [
       "tensor([[False,  True,  True],\n",
       "        [False,  True, False],\n",
       "        [False, False, False]])"
      ]
     },
     "execution_count": 131,
     "metadata": {},
     "output_type": "execute_result"
    }
   ],
   "source": [
    "torch.gt(x1,x2)# greater or equal to \">=\"      => x1 >= x2"
   ]
  },
  {
   "cell_type": "code",
   "execution_count": 132,
   "id": "b6659d99",
   "metadata": {},
   "outputs": [
    {
     "data": {
      "text/plain": [
       "tensor([[ True, False, False],\n",
       "        [ True, False,  True],\n",
       "        [ True,  True,  True]])"
      ]
     },
     "execution_count": 132,
     "metadata": {},
     "output_type": "execute_result"
    }
   ],
   "source": [
    "torch.le(x1,x2)#less than \"<\"      => x1 < x2"
   ]
  },
  {
   "cell_type": "code",
   "execution_count": 134,
   "id": "f22c22f1",
   "metadata": {},
   "outputs": [
    {
     "data": {
      "text/plain": [
       "tensor([[ True, False, False],\n",
       "        [ True, False,  True],\n",
       "        [ True,  True,  True]])"
      ]
     },
     "execution_count": 134,
     "metadata": {},
     "output_type": "execute_result"
    }
   ],
   "source": [
    "torch.lt(x1,x2)#less than or equal to \"<=\"     => x1 <= x2"
   ]
  },
  {
   "cell_type": "code",
   "execution_count": 135,
   "id": "2469714b",
   "metadata": {},
   "outputs": [
    {
     "data": {
      "text/plain": [
       "tensor([[True, True, True],\n",
       "        [True, True, True],\n",
       "        [True, True, True]])"
      ]
     },
     "execution_count": 135,
     "metadata": {},
     "output_type": "execute_result"
    }
   ],
   "source": [
    "torch.ne(x1,x2)#not equal to \"!=\"     => x1 != x2"
   ]
  },
  {
   "cell_type": "code",
   "execution_count": 137,
   "id": "28b604d8",
   "metadata": {},
   "outputs": [
    {
     "data": {
      "text/plain": [
       "tensor([[False, False, False],\n",
       "        [False, False, False],\n",
       "        [False, False, False]])"
      ]
     },
     "execution_count": 137,
     "metadata": {},
     "output_type": "execute_result"
    }
   ],
   "source": [
    "torch.isnan(x1)#is nall"
   ]
  },
  {
   "cell_type": "code",
   "execution_count": 139,
   "id": "c68f2c1a",
   "metadata": {},
   "outputs": [
    {
     "data": {
      "text/plain": [
       "tensor([[True, True, True],\n",
       "        [True, True, True],\n",
       "        [True, True, True]])"
      ]
     },
     "execution_count": 139,
     "metadata": {},
     "output_type": "execute_result"
    }
   ],
   "source": [
    "torch.isfinite(x1)#is finite有限的"
   ]
  },
  {
   "cell_type": "markdown",
   "id": "f23ead9c",
   "metadata": {},
   "source": [
    "- useless things"
   ]
  },
  {
   "cell_type": "code",
   "execution_count": 140,
   "id": "4c517483",
   "metadata": {},
   "outputs": [
    {
     "data": {
      "text/plain": [
       "torch.return_types.sort(\n",
       "values=tensor([[6., 7., 8.],\n",
       "        [2., 3., 4.],\n",
       "        [5., 6., 7.]]),\n",
       "indices=tensor([[2, 1, 0],\n",
       "        [0, 1, 2],\n",
       "        [0, 1, 2]]))"
      ]
     },
     "execution_count": 140,
     "metadata": {},
     "output_type": "execute_result"
    }
   ],
   "source": [
    "torch.sort(x1)"
   ]
  },
  {
   "cell_type": "code",
   "execution_count": 146,
   "id": "fdf8eecc",
   "metadata": {},
   "outputs": [
    {
     "data": {
      "text/plain": [
       "torch.return_types.topk(\n",
       "values=tensor([[8.],\n",
       "        [4.],\n",
       "        [7.]]),\n",
       "indices=tensor([[0],\n",
       "        [2],\n",
       "        [2]]))"
      ]
     },
     "execution_count": 146,
     "metadata": {},
     "output_type": "execute_result"
    }
   ],
   "source": [
    "torch.topk(x1,1)"
   ]
  },
  {
   "cell_type": "code",
   "execution_count": 156,
   "id": "853f6ebd",
   "metadata": {},
   "outputs": [
    {
     "name": "stdout",
     "output_type": "stream",
     "text": [
      "torch.return_types.kthvalue(\n",
      "values=tensor([6., 2., 5.]),\n",
      "indices=tensor([2, 0, 0]))\n",
      "torch.return_types.kthvalue(\n",
      "values=tensor([7., 3., 6.]),\n",
      "indices=tensor([1, 1, 1]))\n",
      "torch.return_types.kthvalue(\n",
      "values=tensor([2., 5., 0.]),\n",
      "indices=tensor([4968310768429349900,                   0, 8101238313836347651]))\n",
      "torch.return_types.kthvalue(\n",
      "values=tensor([3., 6., 0.]),\n",
      "indices=tensor([                  0,                   0, 3930721035628260568]))\n"
     ]
    }
   ],
   "source": [
    "print(torch.kthvalue(x1,1))\n",
    "print(torch.kthvalue(x1,2))\n",
    "print(torch.kthvalue(x1,4))\n",
    "print(torch.kthvalue(x1,5))"
   ]
  },
  {
   "cell_type": "code",
   "execution_count": 160,
   "id": "d44900e7",
   "metadata": {},
   "outputs": [
    {
     "name": "stdout",
     "output_type": "stream",
     "text": [
      "tensor([[1., 2., 3.],\n",
      "        [4., 5., 6.]], requires_grad=True)\n",
      "tensor(91., grad_fn=<SumBackward0>)\n",
      "tensor([[ 2.,  4.,  6.],\n",
      "        [ 8., 10., 12.]])\n"
     ]
    }
   ],
   "source": [
    "x = torch.tensor([[1,2,3],[4,5,6]],\n",
    "         dtype=torch.float, requires_grad=True)\n",
    "print(x)\n",
    "\n",
    "f = x.pow(2).sum()\n",
    "print(f)\n",
    "\n",
    "\n",
    "f.backward()\n",
    "print(x.grad) # df/dx = 2x"
   ]
  },
  {
   "cell_type": "code",
   "execution_count": null,
   "id": "f2a25187",
   "metadata": {},
   "outputs": [],
   "source": []
  }
 ],
 "metadata": {
  "kernelspec": {
   "display_name": "Python 3",
   "language": "python",
   "name": "python3"
  },
  "language_info": {
   "codemirror_mode": {
    "name": "ipython",
    "version": 3
   },
   "file_extension": ".py",
   "mimetype": "text/x-python",
   "name": "python",
   "nbconvert_exporter": "python",
   "pygments_lexer": "ipython3",
   "version": "3.8.8"
  }
 },
 "nbformat": 4,
 "nbformat_minor": 5
}
